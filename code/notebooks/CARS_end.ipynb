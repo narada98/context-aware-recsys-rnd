{
 "cells": [
  {
   "cell_type": "markdown",
   "metadata": {},
   "source": [
    "# Libraries"
   ]
  },
  {
   "cell_type": "code",
   "execution_count": 13,
   "metadata": {},
   "outputs": [],
   "source": [
    "import pandas as pd \n",
    "import numpy as np\n",
    "import tensorflow as tf\n",
    "import tensorflow_datasets as tfds\n",
    "# import tensorflow_datasets"
   ]
  },
  {
   "cell_type": "code",
   "execution_count": 14,
   "metadata": {},
   "outputs": [],
   "source": [
    "%%capture\n",
    "\n",
    "ratings = tfds.load(\"movielens/100k-ratings\", split=\"train\")"
   ]
  },
  {
   "cell_type": "code",
   "execution_count": 15,
   "metadata": {},
   "outputs": [
    {
     "data": {
      "text/plain": [
       "100000"
      ]
     },
     "execution_count": 15,
     "metadata": {},
     "output_type": "execute_result"
    }
   ],
   "source": [
    "len(ratings)"
   ]
  },
  {
   "cell_type": "code",
   "execution_count": 16,
   "metadata": {},
   "outputs": [
    {
     "name": "stdout",
     "output_type": "stream",
     "text": [
      "{'bucketized_user_age': 45.0,\n",
      " 'movie_genres': array([7], dtype=int64),\n",
      " 'movie_id': b'357',\n",
      " 'movie_title': b\"One Flew Over the Cuckoo's Nest (1975)\",\n",
      " 'raw_user_age': 46.0,\n",
      " 'timestamp': 879024327,\n",
      " 'user_gender': True,\n",
      " 'user_id': b'138',\n",
      " 'user_occupation_label': 4,\n",
      " 'user_occupation_text': b'doctor',\n",
      " 'user_rating': 4.0,\n",
      " 'user_zip_code': b'53211'}\n"
     ]
    }
   ],
   "source": [
    "import pprint\n",
    "\n",
    "for x in ratings.take(1).as_numpy_iterator():\n",
    "  pprint.pprint(x)"
   ]
  },
  {
   "cell_type": "markdown",
   "metadata": {},
   "source": [
    "# Preprocessing"
   ]
  },
  {
   "cell_type": "markdown",
   "metadata": {},
   "source": [
    "## movie related"
   ]
  },
  {
   "cell_type": "code",
   "execution_count": 17,
   "metadata": {},
   "outputs": [
    {
     "name": "stdout",
     "output_type": "stream",
     "text": [
      "b\"One Flew Over the Cuckoo's Nest (1975)\"\n",
      "b'Strictly Ballroom (1992)'\n"
     ]
    }
   ],
   "source": [
    "mds = ratings.map(lambda x: x[\"movie_title\"])\n",
    "\n",
    "for title in mds.take(2).as_numpy_iterator():\n",
    "    # pprint.pprint(title)\n",
    "    print(title)"
   ]
  },
  {
   "cell_type": "code",
   "execution_count": 18,
   "metadata": {},
   "outputs": [],
   "source": [
    "movie_title_lookup = tf.keras.layers.StringLookup()\n",
    "\n",
    "movie_titles = ratings.map(lambda x: x[\"movie_title\"])\n",
    "movie_title_lookup.adapt(movie_titles)"
   ]
  },
  {
   "cell_type": "code",
   "execution_count": 19,
   "metadata": {},
   "outputs": [
    {
     "name": "stdout",
     "output_type": "stream",
     "text": [
      "<tf.Tensor: shape=(), dtype=string, numpy=b\"One Flew Over the Cuckoo's Nest (1975)\">\n"
     ]
    }
   ],
   "source": [
    "titles = movie_titles.take(1)\n",
    "for title in titles:\n",
    "    pprint.pprint(title)"
   ]
  },
  {
   "cell_type": "code",
   "execution_count": 20,
   "metadata": {},
   "outputs": [
    {
     "data": {
      "text/plain": [
       "<tf.Tensor: shape=(2,), dtype=int64, numpy=array([ 58, 319], dtype=int64)>"
      ]
     },
     "execution_count": 20,
     "metadata": {},
     "output_type": "execute_result"
    }
   ],
   "source": [
    "# movie_title_lookup.is_adapted\n",
    "movie_title_lookup.vocabulary_size()\n",
    "movie_title_lookup([\"One Flew Over the Cuckoo's Nest (1975)\" ,'Strictly Ballroom (1992)'])"
   ]
  },
  {
   "cell_type": "code",
   "execution_count": 21,
   "metadata": {},
   "outputs": [],
   "source": [
    "movie_title_embedding = tf.keras.layers.Embedding(\n",
    "    input_dim = movie_title_lookup.vocabulary_size(),\n",
    "    output_dim = 32\n",
    ")\n",
    "\n",
    "movie_preprocessor = tf.keras.Sequential([\n",
    "    movie_title_lookup,\n",
    "    movie_title_embedding\n",
    "])"
   ]
  },
  {
   "cell_type": "code",
   "execution_count": null,
   "metadata": {},
   "outputs": [],
   "source": []
  },
  {
   "cell_type": "markdown",
   "metadata": {},
   "source": [
    "## user related"
   ]
  },
  {
   "cell_type": "code",
   "execution_count": 23,
   "metadata": {},
   "outputs": [
    {
     "data": {
      "text/plain": [
       "{'bucketized_user_age': 45.0,\n",
       " 'movie_genres': array([7], dtype=int64),\n",
       " 'movie_id': b'357',\n",
       " 'movie_title': b\"One Flew Over the Cuckoo's Nest (1975)\",\n",
       " 'raw_user_age': 46.0,\n",
       " 'timestamp': 879024327,\n",
       " 'user_gender': True,\n",
       " 'user_id': b'138',\n",
       " 'user_occupation_label': 4,\n",
       " 'user_occupation_text': b'doctor',\n",
       " 'user_rating': 4.0,\n",
       " 'user_zip_code': b'53211'}"
      ]
     },
     "execution_count": 23,
     "metadata": {},
     "output_type": "execute_result"
    }
   ],
   "source": [
    "next(ratings.take(1).as_numpy_iterator())"
   ]
  },
  {
   "cell_type": "code",
   "execution_count": 24,
   "metadata": {},
   "outputs": [],
   "source": [
    "user_ids = ratings.map(lambda x: x['user_id'])"
   ]
  },
  {
   "cell_type": "code",
   "execution_count": 25,
   "metadata": {},
   "outputs": [],
   "source": [
    "user_ids_string_lookup = tf.keras.layers.StringLookup()\n",
    "user_ids_string_lookup.adapt(user_ids)\n",
    "\n",
    "user_ids_vocab_size = user_ids_string_lookup.vocabulary_size()"
   ]
  },
  {
   "cell_type": "code",
   "execution_count": 26,
   "metadata": {},
   "outputs": [],
   "source": [
    "user_id_embedding_model = tf.keras.layers.Embedding(\n",
    "    input_dim = user_ids_vocab_size,\n",
    "    output_dim = 32\n",
    ")"
   ]
  },
  {
   "cell_type": "code",
   "execution_count": 27,
   "metadata": {},
   "outputs": [],
   "source": [
    "user_preprocessor = tf.keras.Sequential(\n",
    "    user_ids_string_lookup,\n",
    "    user_id_embedding_model\n",
    ")"
   ]
  },
  {
   "cell_type": "code",
   "execution_count": null,
   "metadata": {},
   "outputs": [],
   "source": []
  },
  {
   "cell_type": "markdown",
   "metadata": {},
   "source": [
    "## time related"
   ]
  },
  {
   "cell_type": "code",
   "execution_count": 28,
   "metadata": {},
   "outputs": [],
   "source": [
    "#descrization of timestamp\n",
    "\n",
    "max_timestamp = ratings.map(lambda x: x[\"timestamp\"]).reduce(\n",
    "    tf.cast(0, tf.int64), tf.maximum).numpy().max()\n",
    "min_timestamp = ratings.map(lambda x: x[\"timestamp\"]).reduce(\n",
    "    np.int64(1e9), tf.minimum).numpy().min()\n",
    "\n",
    "timestamp_buckets = np.linspace(\n",
    "    min_timestamp, max_timestamp, num=1000)"
   ]
  },
  {
   "cell_type": "code",
   "execution_count": 29,
   "metadata": {},
   "outputs": [
    {
     "data": {
      "text/plain": [
       "array([8.74724710e+08, 8.74743291e+08, 8.74761871e+08, 8.74780452e+08,\n",
       "       8.74799032e+08])"
      ]
     },
     "execution_count": 29,
     "metadata": {},
     "output_type": "execute_result"
    }
   ],
   "source": [
    "timestamp_buckets[:5]"
   ]
  },
  {
   "cell_type": "code",
   "execution_count": 30,
   "metadata": {},
   "outputs": [],
   "source": [
    "timestamp_embedding_model = tf.keras.Sequential([\n",
    "  tf.keras.layers.Discretization(\n",
    "    timestamp_buckets.tolist()\n",
    "    ),\n",
    "    \n",
    "  tf.keras.layers.Embedding(\n",
    "    len(timestamp_buckets) + 1,\n",
    "    32\n",
    "    )\n",
    "])"
   ]
  },
  {
   "cell_type": "code",
   "execution_count": 31,
   "metadata": {},
   "outputs": [
    {
     "name": "stdout",
     "output_type": "stream",
     "text": [
      "Timestamp embedding: [[ 0.00126406  0.03683684  0.04848229  0.04291603 -0.01407162  0.00389475\n",
      "  -0.03409994  0.04169731 -0.01688946 -0.04251561 -0.04795588 -0.02990823\n",
      "  -0.04887525  0.03449798  0.00819398 -0.04634598 -0.0013225  -0.04571677\n",
      "   0.01601881 -0.04693482  0.04869023  0.01688388 -0.02021176  0.01360455\n",
      "  -0.01053651  0.00043181  0.03451455  0.04925514  0.03139712  0.02429155\n",
      "  -0.00485607 -0.02512664]].\n"
     ]
    }
   ],
   "source": [
    "for timestamp in ratings.take(1).map(lambda x: x['timestamp']).batch(1).as_numpy_iterator():\n",
    "  print(f\"Timestamp embedding: {timestamp_embedding_model(timestamp)}.\")"
   ]
  },
  {
   "cell_type": "code",
   "execution_count": 32,
   "metadata": {},
   "outputs": [
    {
     "data": {
      "text/plain": [
       "{'bucketized_user_age': 45.0,\n",
       " 'movie_genres': array([7], dtype=int64),\n",
       " 'movie_id': b'357',\n",
       " 'movie_title': b\"One Flew Over the Cuckoo's Nest (1975)\",\n",
       " 'raw_user_age': 46.0,\n",
       " 'timestamp': 879024327,\n",
       " 'user_gender': True,\n",
       " 'user_id': b'138',\n",
       " 'user_occupation_label': 4,\n",
       " 'user_occupation_text': b'doctor',\n",
       " 'user_rating': 4.0,\n",
       " 'user_zip_code': b'53211'}"
      ]
     },
     "execution_count": 32,
     "metadata": {},
     "output_type": "execute_result"
    }
   ],
   "source": [
    "next(ratings.take(1).as_numpy_iterator())"
   ]
  },
  {
   "cell_type": "markdown",
   "metadata": {},
   "source": [
    "## text (context) related"
   ]
  },
  {
   "cell_type": "code",
   "execution_count": 33,
   "metadata": {},
   "outputs": [],
   "source": [
    "text_vectorizer = tf.keras.layers.TextVectorization()\n",
    "text_vectorizer.adapt(ratings.map(lambda x: x['movie_title']))"
   ]
  },
  {
   "cell_type": "code",
   "execution_count": 34,
   "metadata": {},
   "outputs": [],
   "source": [
    "text_preprocessor = tf.keras.Sequential([\n",
    "    text_vectorizer,\n",
    "    tf.keras.layers.Embedding(\n",
    "        input_dim = text_vectorizer.vocabulary_size(),\n",
    "        output_dim = 32,\n",
    "        mask_zero = True\n",
    "    ),\n",
    "    tf.keras.layers.GlobalAveragePooling1D()\n",
    "])"
   ]
  },
  {
   "cell_type": "code",
   "execution_count": 35,
   "metadata": {},
   "outputs": [
    {
     "name": "stdout",
     "output_type": "stream",
     "text": [
      "WARNING:tensorflow:Layers in a Sequential model should only have a single input tensor. Received: inputs=[\"One Flew Over the Cuckoo's Nest (1975)\"]. Consider rewriting this model with the Functional API.\n"
     ]
    },
    {
     "data": {
      "text/plain": [
       "<tf.Tensor: shape=(1, 32), dtype=float32, numpy=\n",
       "array([[-0.00773971,  0.00423782,  0.01144901, -0.00092731,  0.00727667,\n",
       "        -0.00044186,  0.00015625, -0.00067975, -0.01298766, -0.01011722,\n",
       "         0.00130498, -0.00895921, -0.01889254, -0.00460414,  0.00879441,\n",
       "        -0.01392043,  0.01082589, -0.0020494 , -0.00398778,  0.01969817,\n",
       "         0.00359111,  0.0233259 ,  0.00240958,  0.0034159 ,  0.00574002,\n",
       "        -0.00778672, -0.01579991, -0.00436174, -0.00384612, -0.00775677,\n",
       "         0.03031283,  0.00636865]], dtype=float32)>"
      ]
     },
     "execution_count": 35,
     "metadata": {},
     "output_type": "execute_result"
    }
   ],
   "source": [
    "text_preprocessor.call([\"One Flew Over the Cuckoo's Nest (1975)\"])"
   ]
  },
  {
   "cell_type": "code",
   "execution_count": null,
   "metadata": {},
   "outputs": [],
   "source": []
  },
  {
   "cell_type": "markdown",
   "metadata": {},
   "source": [
    "# Preprocessing models"
   ]
  },
  {
   "cell_type": "code",
   "execution_count": 36,
   "metadata": {},
   "outputs": [],
   "source": [
    "for row in ratings.batch(1).take(1):\n",
    "  # pprint.pprint(row)\n",
    "  test_row = row"
   ]
  },
  {
   "cell_type": "code",
   "execution_count": 37,
   "metadata": {},
   "outputs": [
    {
     "data": {
      "text/plain": [
       "<tf.Tensor: shape=(1,), dtype=string, numpy=array([b\"One Flew Over the Cuckoo's Nest (1975)\"], dtype=object)>"
      ]
     },
     "execution_count": 37,
     "metadata": {},
     "output_type": "execute_result"
    }
   ],
   "source": [
    "test_row['movie_title']"
   ]
  },
  {
   "cell_type": "code",
   "execution_count": 38,
   "metadata": {},
   "outputs": [],
   "source": [
    "class MovieModel(tf.keras.Model):\n",
    "    def __init__(self):\n",
    "        super().__init__()\n",
    "\n",
    "        self.max_tokens = 10000\n",
    "\n",
    "        self.embed_title = tf.keras.Sequential([\n",
    "                            movie_title_lookup,\n",
    "                            tf.keras.layers.Embedding(\n",
    "                                input_dim = movie_title_lookup.vocabulary_size(),\n",
    "                                output_dim = 32\n",
    "                            )\n",
    "                        ])\n",
    "        # self.embed_timestamp = timestamp_embedding_model\n",
    "        self.embed_text = tf.keras.Sequential([\n",
    "                            text_vectorizer,\n",
    "                            tf.keras.layers.Embedding(\n",
    "                                input_dim = self.max_tokens,\n",
    "                                output_dim = 32,\n",
    "                                mask_zero = True\n",
    "                                ),\n",
    "                            tf.keras.layers.GlobalAveragePooling1D()\n",
    "                            ])\n",
    "\n",
    "    def call(self, inputs):\n",
    "        return tf.concat([\n",
    "            self.embed_title(inputs['movie_title']),\n",
    "            self.embed_text(inputs['movie_title'])\n",
    "        ], axis = 1)\n",
    "\n"
   ]
  },
  {
   "cell_type": "code",
   "execution_count": 39,
   "metadata": {},
   "outputs": [],
   "source": [
    "user_id_lookup = tf.keras.layers.StringLookup()\n",
    "user_id_lookup.adapt(ratings.map(lambda x: x['user_id']))"
   ]
  },
  {
   "cell_type": "code",
   "execution_count": 40,
   "metadata": {},
   "outputs": [],
   "source": [
    "class UserModel(tf.keras.Model):\n",
    "    def __init__(self):\n",
    "        super().__init__()\n",
    "\n",
    "        self.max_tokens = 10000\n",
    "\n",
    "        self.embed_ids = tf.keras.Sequential([\n",
    "                            user_id_lookup,\n",
    "                            tf.keras.layers.Embedding(\n",
    "                                input_dim = user_id_lookup.vocabulary_size(),\n",
    "                                output_dim = 32\n",
    "                            )\n",
    "                        ])\n",
    "        self.embed_timestamp = timestamp_embedding_model\n",
    "\n",
    "    def call(self, inputs):\n",
    "        return tf.concat([\n",
    "            self.embed_ids(inputs['user_id']),\n",
    "            self.embed_timestamp(inputs['timestamp'])\n",
    "        ], axis = 1)"
   ]
  },
  {
   "cell_type": "code",
   "execution_count": 41,
   "metadata": {},
   "outputs": [
    {
     "data": {
      "text/plain": [
       "<tf.Tensor: shape=(1, 64), dtype=float32, numpy=\n",
       "array([[ 0.01343979, -0.03909282, -0.03369359, -0.02829543, -0.04917816,\n",
       "        -0.00542297,  0.00409679,  0.01189666, -0.04363866, -0.02073841,\n",
       "        -0.03234669,  0.03293184, -0.02384801,  0.02178412,  0.03004453,\n",
       "         0.04003431, -0.01710523,  0.01142223, -0.04225413, -0.02827203,\n",
       "         0.01185542,  0.04060663,  0.03091243, -0.03868673,  0.03280857,\n",
       "         0.03623761, -0.00457498,  0.01279357,  0.04344759, -0.03850254,\n",
       "        -0.02423432,  0.0118003 ,  0.00126406,  0.03683684,  0.04848229,\n",
       "         0.04291603, -0.01407162,  0.00389475, -0.03409994,  0.04169731,\n",
       "        -0.01688946, -0.04251561, -0.04795588, -0.02990823, -0.04887525,\n",
       "         0.03449798,  0.00819398, -0.04634598, -0.0013225 , -0.04571677,\n",
       "         0.01601881, -0.04693482,  0.04869023,  0.01688388, -0.02021176,\n",
       "         0.01360455, -0.01053651,  0.00043181,  0.03451455,  0.04925514,\n",
       "         0.03139712,  0.02429155, -0.00485607, -0.02512664]],\n",
       "      dtype=float32)>"
      ]
     },
     "execution_count": 41,
     "metadata": {},
     "output_type": "execute_result"
    }
   ],
   "source": [
    "user_model = UserModel()\n",
    "user_model(test_row)"
   ]
  },
  {
   "cell_type": "code",
   "execution_count": 42,
   "metadata": {},
   "outputs": [
    {
     "data": {
      "text/plain": [
       "{'bucketized_user_age': <tf.Tensor: shape=(1,), dtype=float32, numpy=array([45.], dtype=float32)>,\n",
       " 'movie_genres': <tf.Tensor: shape=(1, 1), dtype=int64, numpy=array([[7]], dtype=int64)>,\n",
       " 'movie_id': <tf.Tensor: shape=(1,), dtype=string, numpy=array([b'357'], dtype=object)>,\n",
       " 'movie_title': <tf.Tensor: shape=(1,), dtype=string, numpy=array([b\"One Flew Over the Cuckoo's Nest (1975)\"], dtype=object)>,\n",
       " 'raw_user_age': <tf.Tensor: shape=(1,), dtype=float32, numpy=array([46.], dtype=float32)>,\n",
       " 'timestamp': <tf.Tensor: shape=(1,), dtype=int64, numpy=array([879024327], dtype=int64)>,\n",
       " 'user_gender': <tf.Tensor: shape=(1,), dtype=bool, numpy=array([ True])>,\n",
       " 'user_id': <tf.Tensor: shape=(1,), dtype=string, numpy=array([b'138'], dtype=object)>,\n",
       " 'user_occupation_label': <tf.Tensor: shape=(1,), dtype=int64, numpy=array([4], dtype=int64)>,\n",
       " 'user_occupation_text': <tf.Tensor: shape=(1,), dtype=string, numpy=array([b'doctor'], dtype=object)>,\n",
       " 'user_rating': <tf.Tensor: shape=(1,), dtype=float32, numpy=array([4.], dtype=float32)>,\n",
       " 'user_zip_code': <tf.Tensor: shape=(1,), dtype=string, numpy=array([b'53211'], dtype=object)>}"
      ]
     },
     "execution_count": 42,
     "metadata": {},
     "output_type": "execute_result"
    }
   ],
   "source": [
    "test_row"
   ]
  },
  {
   "cell_type": "code",
   "execution_count": 43,
   "metadata": {},
   "outputs": [
    {
     "data": {
      "text/plain": [
       "<tf.Tensor: shape=(1, 64), dtype=float32, numpy=\n",
       "array([[ 2.90772356e-02, -1.46816149e-02,  2.29792334e-02,\n",
       "        -4.17889580e-02, -2.68987902e-02,  2.65689231e-02,\n",
       "        -2.35139485e-02, -2.10843328e-02,  4.26002629e-02,\n",
       "         1.79305561e-02, -1.98737625e-02,  4.62428592e-02,\n",
       "        -4.41723242e-02, -1.50525197e-02, -2.12696679e-02,\n",
       "         4.75692265e-02,  2.04403065e-02, -1.98970195e-02,\n",
       "         2.87093855e-02, -4.69027162e-02,  2.15325393e-02,\n",
       "         4.09050472e-02,  8.25768709e-03,  8.46757740e-03,\n",
       "        -3.33635099e-02,  1.50557421e-02, -3.53715792e-02,\n",
       "         4.17643301e-02,  2.83649303e-02,  4.23302166e-02,\n",
       "        -1.62136778e-02, -2.10096966e-02, -1.38198007e-02,\n",
       "        -9.93992295e-03,  1.03034498e-02, -2.41529681e-02,\n",
       "        -5.29148895e-03,  5.00304904e-03,  1.69599298e-02,\n",
       "         1.45412385e-02,  1.45061854e-02, -1.67479757e-02,\n",
       "        -2.66707479e-03,  2.67520873e-03, -5.07435109e-03,\n",
       "        -2.52201571e-03,  1.48678198e-03, -2.49160291e-03,\n",
       "        -1.85196579e-03,  1.43100054e-03,  1.53365945e-02,\n",
       "        -3.07259295e-04, -6.76144729e-04, -5.97667042e-03,\n",
       "        -1.24038905e-02,  8.04459862e-03,  5.17019024e-03,\n",
       "         6.58619730e-03, -7.87234027e-03,  2.63166171e-03,\n",
       "         3.71129390e-05,  4.21890616e-03,  9.49992985e-03,\n",
       "        -6.19891519e-03]], dtype=float32)>"
      ]
     },
     "execution_count": 43,
     "metadata": {},
     "output_type": "execute_result"
    }
   ],
   "source": [
    "# MovieModel.call(test_row)\n",
    "movie_model = MovieModel()\n",
    "movie_model(test_row)"
   ]
  },
  {
   "cell_type": "code",
   "execution_count": null,
   "metadata": {},
   "outputs": [],
   "source": []
  }
 ],
 "metadata": {
  "kernelspec": {
   "display_name": "CARS_tf",
   "language": "python",
   "name": "python3"
  },
  "language_info": {
   "codemirror_mode": {
    "name": "ipython",
    "version": 3
   },
   "file_extension": ".py",
   "mimetype": "text/x-python",
   "name": "python",
   "nbconvert_exporter": "python",
   "pygments_lexer": "ipython3",
   "version": "3.9.19"
  }
 },
 "nbformat": 4,
 "nbformat_minor": 2
}
